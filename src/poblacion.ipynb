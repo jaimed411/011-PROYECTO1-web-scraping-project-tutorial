{
 "cells": [
  {
   "cell_type": "code",
   "execution_count": 1,
   "metadata": {},
   "outputs": [],
   "source": [
    "#pip install pandas sqlite3 requests\n"
   ]
  },
  {
   "attachments": {},
   "cell_type": "markdown",
   "metadata": {},
   "source": [
    "Paso 3: Descargar los datos usando la librería requests\n",
    "\n"
   ]
  },
  {
   "cell_type": "code",
   "execution_count": 2,
   "metadata": {},
   "outputs": [],
   "source": [
    "import requests\n",
    "\n",
    "# Realizar la solicitud GET a la página web\n",
    "url = 'https://www.worldometers.info/population/countries-in-europe-by-population/'\n",
    "response = requests.get(url)\n",
    "\n",
    "# Verificar el estado de la respuesta\n",
    "if response.status_code == 200:\n",
    "    # Obtener el contenido HTML de la página\n",
    "    html_content = response.content\n",
    "else:\n",
    "    print('Error al obtener el contenido de la página web.')"
   ]
  },
  {
   "attachments": {},
   "cell_type": "markdown",
   "metadata": {},
   "source": [
    "Paso 4: Analizar los datos HTML con BeautifulSoup\n",
    "\n"
   ]
  },
  {
   "cell_type": "code",
   "execution_count": 3,
   "metadata": {},
   "outputs": [
    {
     "name": "stdout",
     "output_type": "stream",
     "text": [
      "[]\n",
      "['1', 'Russia', '145,934,462', '0.04 %', '62,206', '9', '16,376,870', '182,456', '1.8', '40', '74 %', '1.87 %']\n",
      "['2', 'Germany', '83,783,942', '0.32 %', '266,897', '240', '348,560', '543,822', '1.6', '46', '76 %', '1.07 %']\n",
      "['3', 'United Kingdom', '67,886,011', '0.53 %', '355,839', '281', '241,930', '260,650', '1.8', '40', '83 %', '0.87 %']\n",
      "['4', 'France', '65,273,511', '0.22 %', '143,783', '119', '547,557', '36,527', '1.9', '42', '82 %', '0.84 %']\n",
      "['5', 'Italy', '60,461,826', '-0.15 %', '-88,249', '206', '294,140', '148,943', '1.3', '47', '69 %', '0.78 %']\n",
      "['6', 'Spain', '46,754,778', '0.04 %', '18,002', '94', '498,800', '40,000', '1.3', '45', '80 %', '0.60 %']\n",
      "['7', 'Ukraine', '43,733,762', '-0.59 %', '-259,876', '75', '579,320', '10,000', '1.4', '41', '69 %', '0.56 %']\n",
      "['8', 'Poland', '37,846,611', '-0.11 %', '-41,157', '124', '306,230', '-29,395', '1.4', '42', '60 %', '0.49 %']\n",
      "['9', 'Romania', '19,237,691', '-0.66 %', '-126,866', '84', '230,170', '-73,999', '1.6', '43', '55 %', '0.25 %']\n",
      "['10', 'Netherlands', '17,134,872', '0.22 %', '37,742', '508', '33,720', '16,000', '1.7', '43', '92 %', '0.22 %']\n",
      "['11', 'Belgium', '11,589,623', '0.44 %', '50,295', '383', '30,280', '48,000', '1.7', '42', '98 %', '0.15 %']\n",
      "['12', 'Czech Republic (Czechia)', '10,708,981', '0.18 %', '19,772', '139', '77,240', '22,011', '1.6', '43', '74 %', '0.14 %']\n",
      "['13', 'Greece', '10,423,054', '-0.48 %', '-50,401', '81', '128,900', '-16,000', '1.3', '46', '85 %', '0.13 %']\n",
      "['14', 'Portugal', '10,196,709', '-0.29 %', '-29,478', '111', '91,590', '-6,000', '1.3', '46', '66 %', '0.13 %']\n",
      "['15', 'Sweden', '10,099,265', '0.63 %', '62,886', '25', '410,340', '40,000', '1.9', '41', '88 %', '0.13 %']\n",
      "['16', 'Hungary', '9,660,351', '-0.25 %', '-24,328', '107', '90,530', '6,000', '1.5', '43', '72 %', '0.12 %']\n",
      "['17', 'Belarus', '9,449,323', '-0.03 %', '-3,088', '47', '202,910', '8,730', '1.7', '40', '79 %', '0.12 %']\n",
      "['18', 'Austria', '9,006,398', '0.57 %', '51,296', '109', '82,409', '65,000', '1.5', '43', '57 %', '0.12 %']\n",
      "['19', 'Serbia', '8,737,371', '-0.40 %', '-34,864', '100', '87,460', '4,000', '1.5', '42', '56 %', '0.11 %']\n",
      "['20', 'Switzerland', '8,654,622', '0.74 %', '63,257', '219', '39,516', '52,000', '1.5', '43', '74 %', '0.11 %']\n",
      "['21', 'Bulgaria', '6,948,445', '-0.74 %', '-51,674', '64', '108,560', '-4,800', '1.6', '45', '76 %', '0.09 %']\n",
      "['22', 'Denmark', '5,792,202', '0.35 %', '20,326', '137', '42,430', '15,200', '1.8', '42', '88 %', '0.07 %']\n",
      "['23', 'Finland', '5,540,720', '0.15 %', '8,564', '18', '303,890', '14,000', '1.5', '43', '86 %', '0.07 %']\n",
      "['24', 'Slovakia', '5,459,642', '0.05 %', '2,629', '114', '48,088', '1,485', '1.5', '41', '54 %', '0.07 %']\n",
      "['25', 'Norway', '5,421,241', '0.79 %', '42,384', '15', '365,268', '28,000', '1.7', '40', '83 %', '0.07 %']\n",
      "['26', 'Ireland', '4,937,786', '1.13 %', '55,291', '72', '68,890', '23,604', '1.8', '38', '63 %', '0.06 %']\n",
      "['27', 'Croatia', '4,105,267', '-0.61 %', '-25,037', '73', '55,960', '-8,001', '1.4', '44', '58 %', '0.05 %']\n",
      "['28', 'Moldova', '4,033,963', '-0.23 %', '-9,300', '123', '32,850', '-1,387', '1.3', '38', '43 %', '0.05 %']\n",
      "['29', 'Bosnia and Herzegovina', '3,280,819', '-0.61 %', '-20,181', '64', '51,000', '-21,585', '1.3', '43', '52 %', '0.04 %']\n",
      "['30', 'Albania', '2,877,797', '-0.11 %', '-3,120', '105', '27,400', '-14,000', '1.6', '36', '63 %', '0.04 %']\n",
      "['31', 'Lithuania', '2,722,289', '-1.35 %', '-37,338', '43', '62,674', '-32,780', '1.7', '45', '71 %', '0.03 %']\n",
      "['32', 'North Macedonia', '2,083,374', '0.00 %', '-85', '83', '25,220', '-1,000', '1.5', '39', '59 %', '0.03 %']\n",
      "['33', 'Slovenia', '2,078,938', '0.01 %', '284', '103', '20,140', '2,000', '1.6', '45', '55 %', '0.03 %']\n",
      "['34', 'Latvia', '1,886,198', '-1.08 %', '-20,545', '30', '62,200', '-14,837', '1.7', '44', '69 %', '0.02 %']\n",
      "['35', 'Estonia', '1,326,535', '0.07 %', '887', '31', '42,390', '3,911', '1.6', '42', '68 %', '0.02 %']\n",
      "['36', 'Montenegro', '628,066', '0.01 %', '79', '47', '13,450', '-480', '1.8', '39', '68 %', '0.01 %']\n",
      "['37', 'Luxembourg', '625,978', '1.66 %', '10,249', '242', '2,590', '9,741', '1.5', '40', '88 %', '0.01 %']\n",
      "['38', 'Malta', '441,543', '0.27 %', '1,171', '1,380', '320', '900', '1.5', '43', '93 %', '0.01 %']\n",
      "['39', 'Iceland', '341,243', '0.65 %', '2,212', '3', '100,250', '380', '1.8', '37', '94 %', '0.00 %']\n",
      "['40', 'Channel Islands', '173,863', '0.93 %', '1,604', '915', '190', '1,351', '1.5', '43', '30 %', '0.00 %']\n",
      "['41', 'Isle of Man', '85,033', '0.53 %', '449', '149', '570', '', 'N.A.', 'N.A.', '53 %', '0.00 %']\n",
      "['42', 'Andorra', '77,265', '0.16 %', '123', '164', '470', '', 'N.A.', 'N.A.', '88 %', '0.00 %']\n",
      "['43', 'Faeroe Islands', '48,863', '0.38 %', '185', '35', '1,396', '', 'N.A.', 'N.A.', '43 %', '0.00 %']\n",
      "['44', 'Monaco', '39,242', '0.71 %', '278', '26,337', '1', '', 'N.A.', 'N.A.', 'N.A.', '0.00 %']\n",
      "['45', 'Liechtenstein', '38,128', '0.29 %', '109', '238', '160', '', 'N.A.', 'N.A.', '15 %', '0.00 %']\n",
      "['46', 'San Marino', '33,931', '0.21 %', '71', '566', '60', '', 'N.A.', 'N.A.', '97 %', '0.00 %']\n",
      "['47', 'Gibraltar', '33,691', '-0.03 %', '-10', '3,369', '10', '', 'N.A.', 'N.A.', 'N.A.', '0.00 %']\n",
      "['48', 'Holy See', '801', '0.25 %', '2', '2,003', '0', '', 'N.A.', 'N.A.', 'N.A.', '0.00 %']\n"
     ]
    }
   ],
   "source": [
    "from bs4 import BeautifulSoup\n",
    "\n",
    "# Crear un objeto BeautifulSoup para analizar el HTML\n",
    "soup = BeautifulSoup(html_content, 'html.parser')\n",
    "\n",
    "# Encontrar la tabla que contiene los datos\n",
    "table = soup.find('table')\n",
    "\n",
    "# Extraer los datos de la tabla\n",
    "data = []\n",
    "rows = table.find_all('tr')\n",
    "for row in rows:\n",
    "    columns = row.find_all('td')\n",
    "    row_data = [column.text.strip() for column in columns]\n",
    "    data.append(row_data)\n",
    "\n",
    "# Imprimir los datos extraídos\n",
    "for row in data:\n",
    "    print(row)"
   ]
  },
  {
   "attachments": {},
   "cell_type": "markdown",
   "metadata": {},
   "source": [
    "Paso 5: Limpiar filas\n",
    "\n"
   ]
  },
  {
   "cell_type": "code",
   "execution_count": 17,
   "metadata": {},
   "outputs": [
    {
     "name": "stdout",
     "output_type": "stream",
     "text": [
      "[]\n",
      "['1', 'Russia', '145,934,462', '0.04 %', '62,206', '9', '16,376,870', '182,456', '1.8', '40', '74 %', '1.87 %']\n",
      "['2', 'Germany', '83,783,942', '0.32 %', '266,897', '240', '348,560', '543,822', '1.6', '46', '76 %', '1.07 %']\n",
      "['3', 'United Kingdom', '67,886,011', '0.53 %', '355,839', '281', '241,930', '260,650', '1.8', '40', '83 %', '0.87 %']\n",
      "['4', 'France', '65,273,511', '0.22 %', '143,783', '119', '547,557', '36,527', '1.9', '42', '82 %', '0.84 %']\n",
      "['5', 'Italy', '60,461,826', '-0.15 %', '-88,249', '206', '294,140', '148,943', '1.3', '47', '69 %', '0.78 %']\n",
      "['6', 'Spain', '46,754,778', '0.04 %', '18,002', '94', '498,800', '40,000', '1.3', '45', '80 %', '0.60 %']\n",
      "['7', 'Ukraine', '43,733,762', '-0.59 %', '-259,876', '75', '579,320', '10,000', '1.4', '41', '69 %', '0.56 %']\n",
      "['8', 'Poland', '37,846,611', '-0.11 %', '-41,157', '124', '306,230', '-29,395', '1.4', '42', '60 %', '0.49 %']\n",
      "['9', 'Romania', '19,237,691', '-0.66 %', '-126,866', '84', '230,170', '-73,999', '1.6', '43', '55 %', '0.25 %']\n",
      "['10', 'Netherlands', '17,134,872', '0.22 %', '37,742', '508', '33,720', '16,000', '1.7', '43', '92 %', '0.22 %']\n",
      "['11', 'Belgium', '11,589,623', '0.44 %', '50,295', '383', '30,280', '48,000', '1.7', '42', '98 %', '0.15 %']\n",
      "['12', 'Czech Republic (Czechia)', '10,708,981', '0.18 %', '19,772', '139', '77,240', '22,011', '1.6', '43', '74 %', '0.14 %']\n",
      "['13', 'Greece', '10,423,054', '-0.48 %', '-50,401', '81', '128,900', '-16,000', '1.3', '46', '85 %', '0.13 %']\n",
      "['14', 'Portugal', '10,196,709', '-0.29 %', '-29,478', '111', '91,590', '-6,000', '1.3', '46', '66 %', '0.13 %']\n",
      "['15', 'Sweden', '10,099,265', '0.63 %', '62,886', '25', '410,340', '40,000', '1.9', '41', '88 %', '0.13 %']\n",
      "['16', 'Hungary', '9,660,351', '-0.25 %', '-24,328', '107', '90,530', '6,000', '1.5', '43', '72 %', '0.12 %']\n",
      "['17', 'Belarus', '9,449,323', '-0.03 %', '-3,088', '47', '202,910', '8,730', '1.7', '40', '79 %', '0.12 %']\n",
      "['18', 'Austria', '9,006,398', '0.57 %', '51,296', '109', '82,409', '65,000', '1.5', '43', '57 %', '0.12 %']\n",
      "['19', 'Serbia', '8,737,371', '-0.40 %', '-34,864', '100', '87,460', '4,000', '1.5', '42', '56 %', '0.11 %']\n",
      "['20', 'Switzerland', '8,654,622', '0.74 %', '63,257', '219', '39,516', '52,000', '1.5', '43', '74 %', '0.11 %']\n",
      "['21', 'Bulgaria', '6,948,445', '-0.74 %', '-51,674', '64', '108,560', '-4,800', '1.6', '45', '76 %', '0.09 %']\n",
      "['22', 'Denmark', '5,792,202', '0.35 %', '20,326', '137', '42,430', '15,200', '1.8', '42', '88 %', '0.07 %']\n",
      "['23', 'Finland', '5,540,720', '0.15 %', '8,564', '18', '303,890', '14,000', '1.5', '43', '86 %', '0.07 %']\n",
      "['24', 'Slovakia', '5,459,642', '0.05 %', '2,629', '114', '48,088', '1,485', '1.5', '41', '54 %', '0.07 %']\n",
      "['25', 'Norway', '5,421,241', '0.79 %', '42,384', '15', '365,268', '28,000', '1.7', '40', '83 %', '0.07 %']\n",
      "['26', 'Ireland', '4,937,786', '1.13 %', '55,291', '72', '68,890', '23,604', '1.8', '38', '63 %', '0.06 %']\n",
      "['27', 'Croatia', '4,105,267', '-0.61 %', '-25,037', '73', '55,960', '-8,001', '1.4', '44', '58 %', '0.05 %']\n",
      "['28', 'Moldova', '4,033,963', '-0.23 %', '-9,300', '123', '32,850', '-1,387', '1.3', '38', '43 %', '0.05 %']\n",
      "['29', 'Bosnia and Herzegovina', '3,280,819', '-0.61 %', '-20,181', '64', '51,000', '-21,585', '1.3', '43', '52 %', '0.04 %']\n",
      "['30', 'Albania', '2,877,797', '-0.11 %', '-3,120', '105', '27,400', '-14,000', '1.6', '36', '63 %', '0.04 %']\n",
      "['31', 'Lithuania', '2,722,289', '-1.35 %', '-37,338', '43', '62,674', '-32,780', '1.7', '45', '71 %', '0.03 %']\n",
      "['32', 'North Macedonia', '2,083,374', '0.00 %', '-85', '83', '25,220', '-1,000', '1.5', '39', '59 %', '0.03 %']\n",
      "['33', 'Slovenia', '2,078,938', '0.01 %', '284', '103', '20,140', '2,000', '1.6', '45', '55 %', '0.03 %']\n",
      "['34', 'Latvia', '1,886,198', '-1.08 %', '-20,545', '30', '62,200', '-14,837', '1.7', '44', '69 %', '0.02 %']\n",
      "['35', 'Estonia', '1,326,535', '0.07 %', '887', '31', '42,390', '3,911', '1.6', '42', '68 %', '0.02 %']\n",
      "['36', 'Montenegro', '628,066', '0.01 %', '79', '47', '13,450', '-480', '1.8', '39', '68 %', '0.01 %']\n",
      "['37', 'Luxembourg', '625,978', '1.66 %', '10,249', '242', '2,590', '9,741', '1.5', '40', '88 %', '0.01 %']\n",
      "['38', 'Malta', '441,543', '0.27 %', '1,171', '1,380', '320', '900', '1.5', '43', '93 %', '0.01 %']\n",
      "['39', 'Iceland', '341,243', '0.65 %', '2,212', '3', '100,250', '380', '1.8', '37', '94 %', '0.00 %']\n",
      "['40', 'Channel Islands', '173,863', '0.93 %', '1,604', '915', '190', '1,351', '1.5', '43', '30 %', '0.00 %']\n"
     ]
    }
   ],
   "source": [
    "# Eliminar filas con valores NaN\n",
    "data = [row for row in data if all(row)]\n",
    "\n",
    "# Imprimir la tabla limpia\n",
    "for row in data:\n",
    "    print(row)"
   ]
  },
  {
   "attachments": {},
   "cell_type": "markdown",
   "metadata": {},
   "source": [
    "Paso 6: Insertar los datos en SQLite\n",
    "\n"
   ]
  },
  {
   "cell_type": "code",
   "execution_count": 18,
   "metadata": {},
   "outputs": [],
   "source": [
    "import sqlite3\n",
    "\n",
    "# Crear una conexión a la base de datos SQLite\n",
    "conn = sqlite3.connect('population.db')\n",
    "\n",
    "# Insertar los datos en la tabla 'population'\n",
    "df.to_sql('population', conn, if_exists='replace', index=False)\n",
    "\n",
    "# Cerrar la conexión a la base de datos\n",
    "conn.close()"
   ]
  },
  {
   "attachments": {},
   "cell_type": "markdown",
   "metadata": {},
   "source": [
    "Paso 7: Conectarse a SQLite\n",
    "\n"
   ]
  },
  {
   "cell_type": "code",
   "execution_count": 19,
   "metadata": {},
   "outputs": [],
   "source": [
    "import sqlite3\n",
    "\n",
    "# Conectarse a la base de datos SQLite\n",
    "conn = sqlite3.connect('population.db')"
   ]
  },
  {
   "attachments": {},
   "cell_type": "markdown",
   "metadata": {},
   "source": [
    "Paso 8: Crear una tabla en la base de datos\n",
    "\n"
   ]
  },
  {
   "cell_type": "code",
   "execution_count": 20,
   "metadata": {},
   "outputs": [],
   "source": [
    "# Crear la tabla 'population' en la base de datos\n",
    "cursor = conn.cursor()\n",
    "cursor.execute('''\n",
    "    CREATE TABLE IF NOT EXISTS population (\n",
    "        Country TEXT,\n",
    "        Population TEXT,\n",
    "        Yearly_Change TEXT,\n",
    "        Net_Change TEXT,\n",
    "        Density TEXT,\n",
    "        Land_Area TEXT,\n",
    "        Migrants TEXT,\n",
    "        Fert_Rate TEXT,\n",
    "        Med_Age TEXT,\n",
    "        Urban_Pop TEXT,\n",
    "        World_Share TEXT\n",
    "    )\n",
    "''')\n",
    "\n",
    "# Guardar los cambios en la base de datos\n",
    "conn.commit()"
   ]
  },
  {
   "attachments": {},
   "cell_type": "markdown",
   "metadata": {},
   "source": [
    "Paso 9: Recuperar los datos de la base de datos\n",
    "\n"
   ]
  },
  {
   "cell_type": "code",
   "execution_count": 21,
   "metadata": {},
   "outputs": [
    {
     "name": "stdout",
     "output_type": "stream",
     "text": [
      "     #   Country (or dependency)  Population Yearly Change  Net Change  \\\n",
      "0    1                    Russia   145934462        0.04 %       62206   \n",
      "1    2                   Germany    83783942        0.32 %      266897   \n",
      "2    3            United Kingdom    67886011        0.53 %      355839   \n",
      "3    4                    France    65273511        0.22 %      143783   \n",
      "4    5                     Italy    60461826       -0.15 %      -88249   \n",
      "5    6                     Spain    46754778        0.04 %       18002   \n",
      "6    7                   Ukraine    43733762       -0.59 %     -259876   \n",
      "7    8                    Poland    37846611       -0.11 %      -41157   \n",
      "8    9                   Romania    19237691       -0.66 %     -126866   \n",
      "9   10               Netherlands    17134872        0.22 %       37742   \n",
      "10  11                   Belgium    11589623        0.44 %       50295   \n",
      "11  12  Czech Republic (Czechia)    10708981        0.18 %       19772   \n",
      "12  13                    Greece    10423054       -0.48 %      -50401   \n",
      "13  14                  Portugal    10196709       -0.29 %      -29478   \n",
      "14  15                    Sweden    10099265        0.63 %       62886   \n",
      "15  16                   Hungary     9660351       -0.25 %      -24328   \n",
      "16  17                   Belarus     9449323       -0.03 %       -3088   \n",
      "17  18                   Austria     9006398        0.57 %       51296   \n",
      "18  19                    Serbia     8737371       -0.40 %      -34864   \n",
      "19  20               Switzerland     8654622        0.74 %       63257   \n",
      "20  21                  Bulgaria     6948445       -0.74 %      -51674   \n",
      "21  22                   Denmark     5792202        0.35 %       20326   \n",
      "22  23                   Finland     5540720        0.15 %        8564   \n",
      "23  24                  Slovakia     5459642        0.05 %        2629   \n",
      "24  25                    Norway     5421241        0.79 %       42384   \n",
      "25  26                   Ireland     4937786        1.13 %       55291   \n",
      "26  27                   Croatia     4105267       -0.61 %      -25037   \n",
      "27  28                   Moldova     4033963       -0.23 %       -9300   \n",
      "28  29    Bosnia and Herzegovina     3280819       -0.61 %      -20181   \n",
      "29  30                   Albania     2877797       -0.11 %       -3120   \n",
      "30  31                 Lithuania     2722289       -1.35 %      -37338   \n",
      "31  32           North Macedonia     2083374        0.00 %         -85   \n",
      "32  33                  Slovenia     2078938        0.01 %         284   \n",
      "33  34                    Latvia     1886198       -1.08 %      -20545   \n",
      "34  35                   Estonia     1326535        0.07 %         887   \n",
      "35  36                Montenegro      628066        0.01 %          79   \n",
      "36  37                Luxembourg      625978        1.66 %       10249   \n",
      "37  38                     Malta      441543        0.27 %        1171   \n",
      "38  39                   Iceland      341243        0.65 %        2212   \n",
      "39  40           Channel Islands      173863        0.93 %        1604   \n",
      "40  41               Isle of Man       85033        0.53 %         449   \n",
      "41  42                   Andorra       77265        0.16 %         123   \n",
      "42  43            Faeroe Islands       48863        0.38 %         185   \n",
      "43  44                    Monaco       39242        0.71 %         278   \n",
      "44  45             Liechtenstein       38128        0.29 %         109   \n",
      "45  46                San Marino       33931        0.21 %          71   \n",
      "46  47                 Gibraltar       33691       -0.03 %         -10   \n",
      "47  48                  Holy See         801        0.25 %           2   \n",
      "\n",
      "    Density (P/Km²)  Land Area (Km²)  Migrants (net) Fert. Rate Med. Age  \\\n",
      "0                 9         16376870        182456.0        1.8       40   \n",
      "1               240           348560        543822.0        1.6       46   \n",
      "2               281           241930        260650.0        1.8       40   \n",
      "3               119           547557         36527.0        1.9       42   \n",
      "4               206           294140        148943.0        1.3       47   \n",
      "5                94           498800         40000.0        1.3       45   \n",
      "6                75           579320         10000.0        1.4       41   \n",
      "7               124           306230        -29395.0        1.4       42   \n",
      "8                84           230170        -73999.0        1.6       43   \n",
      "9               508            33720         16000.0        1.7       43   \n",
      "10              383            30280         48000.0        1.7       42   \n",
      "11              139            77240         22011.0        1.6       43   \n",
      "12               81           128900        -16000.0        1.3       46   \n",
      "13              111            91590         -6000.0        1.3       46   \n",
      "14               25           410340         40000.0        1.9       41   \n",
      "15              107            90530          6000.0        1.5       43   \n",
      "16               47           202910          8730.0        1.7       40   \n",
      "17              109            82409         65000.0        1.5       43   \n",
      "18              100            87460          4000.0        1.5       42   \n",
      "19              219            39516         52000.0        1.5       43   \n",
      "20               64           108560         -4800.0        1.6       45   \n",
      "21              137            42430         15200.0        1.8       42   \n",
      "22               18           303890         14000.0        1.5       43   \n",
      "23              114            48088          1485.0        1.5       41   \n",
      "24               15           365268         28000.0        1.7       40   \n",
      "25               72            68890         23604.0        1.8       38   \n",
      "26               73            55960         -8001.0        1.4       44   \n",
      "27              123            32850         -1387.0        1.3       38   \n",
      "28               64            51000        -21585.0        1.3       43   \n",
      "29              105            27400        -14000.0        1.6       36   \n",
      "30               43            62674        -32780.0        1.7       45   \n",
      "31               83            25220         -1000.0        1.5       39   \n",
      "32              103            20140          2000.0        1.6       45   \n",
      "33               30            62200        -14837.0        1.7       44   \n",
      "34               31            42390          3911.0        1.6       42   \n",
      "35               47            13450          -480.0        1.8       39   \n",
      "36              242             2590          9741.0        1.5       40   \n",
      "37             1380              320           900.0        1.5       43   \n",
      "38                3           100250           380.0        1.8       37   \n",
      "39              915              190          1351.0        1.5       43   \n",
      "40              149              570             NaN       N.A.     N.A.   \n",
      "41              164              470             NaN       N.A.     N.A.   \n",
      "42               35             1396             NaN       N.A.     N.A.   \n",
      "43            26337                1             NaN       N.A.     N.A.   \n",
      "44              238              160             NaN       N.A.     N.A.   \n",
      "45              566               60             NaN       N.A.     N.A.   \n",
      "46             3369               10             NaN       N.A.     N.A.   \n",
      "47             2003                0             NaN       N.A.     N.A.   \n",
      "\n",
      "   Urban Pop % World Share  \n",
      "0         74 %      1.87 %  \n",
      "1         76 %      1.07 %  \n",
      "2         83 %      0.87 %  \n",
      "3         82 %      0.84 %  \n",
      "4         69 %      0.78 %  \n",
      "5         80 %      0.60 %  \n",
      "6         69 %      0.56 %  \n",
      "7         60 %      0.49 %  \n",
      "8         55 %      0.25 %  \n",
      "9         92 %      0.22 %  \n",
      "10        98 %      0.15 %  \n",
      "11        74 %      0.14 %  \n",
      "12        85 %      0.13 %  \n",
      "13        66 %      0.13 %  \n",
      "14        88 %      0.13 %  \n",
      "15        72 %      0.12 %  \n",
      "16        79 %      0.12 %  \n",
      "17        57 %      0.12 %  \n",
      "18        56 %      0.11 %  \n",
      "19        74 %      0.11 %  \n",
      "20        76 %      0.09 %  \n",
      "21        88 %      0.07 %  \n",
      "22        86 %      0.07 %  \n",
      "23        54 %      0.07 %  \n",
      "24        83 %      0.07 %  \n",
      "25        63 %      0.06 %  \n",
      "26        58 %      0.05 %  \n",
      "27        43 %      0.05 %  \n",
      "28        52 %      0.04 %  \n",
      "29        63 %      0.04 %  \n",
      "30        71 %      0.03 %  \n",
      "31        59 %      0.03 %  \n",
      "32        55 %      0.03 %  \n",
      "33        69 %      0.02 %  \n",
      "34        68 %      0.02 %  \n",
      "35        68 %      0.01 %  \n",
      "36        88 %      0.01 %  \n",
      "37        93 %      0.01 %  \n",
      "38        94 %      0.00 %  \n",
      "39        30 %      0.00 %  \n",
      "40        53 %      0.00 %  \n",
      "41        88 %      0.00 %  \n",
      "42        43 %      0.00 %  \n",
      "43        N.A.      0.00 %  \n",
      "44        15 %      0.00 %  \n",
      "45        97 %      0.00 %  \n",
      "46        N.A.      0.00 %  \n",
      "47        N.A.      0.00 %  \n"
     ]
    }
   ],
   "source": [
    "import pandas as pd\n",
    "\n",
    "# Recuperar los datos de la tabla 'population'\n",
    "query = 'SELECT * FROM population'\n",
    "df = pd.read_sql_query(query, conn)\n",
    "\n",
    "# Imprimir el DataFrame con los datos recuperados\n",
    "print(df)"
   ]
  },
  {
   "attachments": {},
   "cell_type": "markdown",
   "metadata": {},
   "source": [
    "Paso 10: Crear una visualización\n",
    "\n"
   ]
  },
  {
   "cell_type": "code",
   "execution_count": 22,
   "metadata": {},
   "outputs": [
    {
     "data": {
      "image/png": "[encoded data removed]",
      "text/plain": [
       "<Figure size 640x480 with 1 Axes>"
      ]
     },
     "metadata": {},
     "output_type": "display_data"
    }
   ],
   "source": [
    "import matplotlib.pyplot as plt\n",
    "\n",
    "# Renombrar la columna 'Population (2020)' a 'Population'\n",
    "df = df.rename(columns={'Population (2020)': 'Population'})\n",
    "\n",
    "# Ordenar el DataFrame por la columna 'Population'\n",
    "df = df.sort_values('Population', ascending=False)\n",
    "\n",
    "# Obtener los 10 países con mayor población\n",
    "top_10_countries = df.head(10)\n",
    "\n",
    "# Crear el gráfico de barras\n",
    "plt.barh(top_10_countries['Country (or dependency)'], top_10_countries['Population'])\n",
    "plt.xlabel('Population')\n",
    "plt.ylabel('Country (or dependency)')\n",
    "plt.title('Top 10 Countries in Europe by Population')\n",
    "plt.show()"
   ]
  }
 ],
 "metadata": {
  "kernelspec": {
   "display_name": "Python 3",
   "language": "python",
   "name": "python3"
  },
  "language_info": {
   "codemirror_mode": {
    "name": "ipython",
    "version": 3
   },
   "file_extension": ".py",
   "mimetype": "text/x-python",
   "name": "python",
   "nbconvert_exporter": "python",
   "pygments_lexer": "ipython3",
   "version": "3.10.8"
  },
  "orig_nbformat": 4
 },
 "nbformat": 4,
 "nbformat_minor": 2
}
